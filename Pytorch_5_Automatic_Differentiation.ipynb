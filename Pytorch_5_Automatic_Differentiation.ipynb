{
 "cells": [
  {
   "cell_type": "code",
   "execution_count": 1,
   "id": "0c7fd81c-a450-4c47-b42f-324c94720289",
   "metadata": {},
   "outputs": [],
   "source": [
    "# Often called Autograd.\n",
    "\n",
    "# Calculating Derivatives is vital in optimization algorithms to train NN.\n",
    "# Deep Learning frameworks ease this tedious task using AUTOMATIC DIFFERENTIATION.\n",
    "\n",
    "# As we pass data through each fxn, the framework builds a computational graph that tracks \n",
    "# how each value depends on others.\n",
    "\n",
    "# To calculate derivatives, automatic differentiation works backwards through this graph\n",
    "# while applying the chain rule.\n",
    "\n",
    "# This algorithm for chain rule is called BACKPROPOGATION.\n"
   ]
  },
  {
   "cell_type": "code",
   "execution_count": 3,
   "id": "780be36d-a32c-4c94-b7f9-74b2211c6136",
   "metadata": {},
   "outputs": [],
   "source": [
    "import torch"
   ]
  },
  {
   "cell_type": "code",
   "execution_count": 5,
   "id": "ff5f0f62-3de8-4a62-a7b1-c99acb8230a3",
   "metadata": {},
   "outputs": [
    {
     "data": {
      "text/plain": [
       "tensor([0., 1., 2., 3.])"
      ]
     },
     "execution_count": 5,
     "metadata": {},
     "output_type": "execute_result"
    }
   ],
   "source": [
    "# Assuming we want to differentiate the fxn\n",
    "# y = 2X dot product with X\n",
    "# wrt column vector x.\n",
    "\n",
    "# Assign x an initial value.\n",
    "\n",
    "x = torch.arange(4.0)\n",
    "x"
   ]
  },
  {
   "cell_type": "code",
   "execution_count": 7,
   "id": "3a33374f-7923-44e5-80e6-536a76a6fc3a",
   "metadata": {},
   "outputs": [],
   "source": [
    "# We need to store X.\n",
    "# Avoid allocating new memory because we may run out of memory in a Deep Neural Network.\n",
    "# Thus we save the Gradient.\n",
    "\n",
    "x.requires_grad_(True) # Alt is torch.arange(4.0, requires_grad = True)\n",
    "x.grad # None by default"
   ]
  },
  {
   "cell_type": "code",
   "execution_count": 8,
   "id": "4ab6900c-bbc8-4080-af78-f283a60ac7cd",
   "metadata": {},
   "outputs": [
    {
     "data": {
      "text/plain": [
       "tensor(28., grad_fn=<MulBackward0>)"
      ]
     },
     "execution_count": 8,
     "metadata": {},
     "output_type": "execute_result"
    }
   ],
   "source": [
    "# Assign our function to Y.\n",
    "\n",
    "y = 2 * torch.dot(x,x)\n",
    "y"
   ]
  },
  {
   "cell_type": "code",
   "execution_count": 9,
   "id": "278b1066-9c25-4bf9-bd26-642a6196722e",
   "metadata": {},
   "outputs": [
    {
     "data": {
      "text/plain": [
       "tensor([ 0.,  4.,  8., 12.])"
      ]
     },
     "execution_count": 9,
     "metadata": {},
     "output_type": "execute_result"
    }
   ],
   "source": [
    "# We can now take gradient of Y\n",
    "# By calling its backward method.\n",
    "# We can also access the gradient via X.grad\n",
    "\n",
    "\n",
    "y.backward()\n",
    "x.grad\n"
   ]
  },
  {
   "cell_type": "code",
   "execution_count": 10,
   "id": "a77ac691-e997-47c7-ab33-3ba9b49dec10",
   "metadata": {},
   "outputs": [
    {
     "data": {
      "text/plain": [
       "tensor([True, True, True, True])"
      ]
     },
     "execution_count": 10,
     "metadata": {},
     "output_type": "execute_result"
    }
   ],
   "source": [
    "# We know the gradient of 2x^2 is 4x. \n",
    "# We now verify it.\n",
    "\n",
    "x.grad == 4*x"
   ]
  },
  {
   "cell_type": "code",
   "execution_count": 12,
   "id": "854b5daa-87b4-45b9-be93-df4090e608b0",
   "metadata": {},
   "outputs": [
    {
     "ename": "RuntimeError",
     "evalue": "Trying to backward through the graph a second time (or directly access saved tensors after they have already been freed). Saved intermediate values of the graph are freed when you call .backward() or autograd.grad(). Specify retain_graph=True if you need to backward through the graph a second time or if you need to access saved tensors after calling backward.",
     "output_type": "error",
     "traceback": [
      "\u001b[1;31m---------------------------------------------------------------------------\u001b[0m",
      "\u001b[1;31mRuntimeError\u001b[0m                              Traceback (most recent call last)",
      "Cell \u001b[1;32mIn[12], line 6\u001b[0m\n\u001b[0;32m      1\u001b[0m \u001b[38;5;66;03m# Now we calculate another function of X & take grad.\u001b[39;00m\n\u001b[0;32m      2\u001b[0m \u001b[38;5;66;03m# Pytorch doesn;t reset the gradient buffer automatically.\u001b[39;00m\n\u001b[0;32m      3\u001b[0m \u001b[38;5;66;03m# We have to do it.\u001b[39;00m\n\u001b[0;32m      4\u001b[0m \u001b[38;5;66;03m# Pytorch adds a new gradient to the already stored gradient.\u001b[39;00m\n\u001b[1;32m----> 6\u001b[0m \u001b[43my\u001b[49m\u001b[38;5;241;43m.\u001b[39;49m\u001b[43mbackward\u001b[49m\u001b[43m(\u001b[49m\u001b[43m)\u001b[49m\n\u001b[0;32m      7\u001b[0m z \u001b[38;5;241m=\u001b[39m x\u001b[38;5;241m.\u001b[39mgrad\n\u001b[0;32m      8\u001b[0m \u001b[38;5;28mprint\u001b[39m(\u001b[38;5;124m'\u001b[39m\u001b[38;5;124mZ : \u001b[39m\u001b[38;5;124m'\u001b[39m, z)\n",
      "File \u001b[1;32m~\\py_311_venv\\Lib\\site-packages\\torch\\_tensor.py:521\u001b[0m, in \u001b[0;36mTensor.backward\u001b[1;34m(self, gradient, retain_graph, create_graph, inputs)\u001b[0m\n\u001b[0;32m    511\u001b[0m \u001b[38;5;28;01mif\u001b[39;00m has_torch_function_unary(\u001b[38;5;28mself\u001b[39m):\n\u001b[0;32m    512\u001b[0m     \u001b[38;5;28;01mreturn\u001b[39;00m handle_torch_function(\n\u001b[0;32m    513\u001b[0m         Tensor\u001b[38;5;241m.\u001b[39mbackward,\n\u001b[0;32m    514\u001b[0m         (\u001b[38;5;28mself\u001b[39m,),\n\u001b[1;32m   (...)\u001b[0m\n\u001b[0;32m    519\u001b[0m         inputs\u001b[38;5;241m=\u001b[39minputs,\n\u001b[0;32m    520\u001b[0m     )\n\u001b[1;32m--> 521\u001b[0m \u001b[43mtorch\u001b[49m\u001b[38;5;241;43m.\u001b[39;49m\u001b[43mautograd\u001b[49m\u001b[38;5;241;43m.\u001b[39;49m\u001b[43mbackward\u001b[49m\u001b[43m(\u001b[49m\n\u001b[0;32m    522\u001b[0m \u001b[43m    \u001b[49m\u001b[38;5;28;43mself\u001b[39;49m\u001b[43m,\u001b[49m\u001b[43m \u001b[49m\u001b[43mgradient\u001b[49m\u001b[43m,\u001b[49m\u001b[43m \u001b[49m\u001b[43mretain_graph\u001b[49m\u001b[43m,\u001b[49m\u001b[43m \u001b[49m\u001b[43mcreate_graph\u001b[49m\u001b[43m,\u001b[49m\u001b[43m \u001b[49m\u001b[43minputs\u001b[49m\u001b[38;5;241;43m=\u001b[39;49m\u001b[43minputs\u001b[49m\n\u001b[0;32m    523\u001b[0m \u001b[43m\u001b[49m\u001b[43m)\u001b[49m\n",
      "File \u001b[1;32m~\\py_311_venv\\Lib\\site-packages\\torch\\autograd\\__init__.py:289\u001b[0m, in \u001b[0;36mbackward\u001b[1;34m(tensors, grad_tensors, retain_graph, create_graph, grad_variables, inputs)\u001b[0m\n\u001b[0;32m    284\u001b[0m     retain_graph \u001b[38;5;241m=\u001b[39m create_graph\n\u001b[0;32m    286\u001b[0m \u001b[38;5;66;03m# The reason we repeat the same comment below is that\u001b[39;00m\n\u001b[0;32m    287\u001b[0m \u001b[38;5;66;03m# some Python versions print out the first line of a multi-line function\u001b[39;00m\n\u001b[0;32m    288\u001b[0m \u001b[38;5;66;03m# calls in the traceback and some print out the last line\u001b[39;00m\n\u001b[1;32m--> 289\u001b[0m \u001b[43m_engine_run_backward\u001b[49m\u001b[43m(\u001b[49m\n\u001b[0;32m    290\u001b[0m \u001b[43m    \u001b[49m\u001b[43mtensors\u001b[49m\u001b[43m,\u001b[49m\n\u001b[0;32m    291\u001b[0m \u001b[43m    \u001b[49m\u001b[43mgrad_tensors_\u001b[49m\u001b[43m,\u001b[49m\n\u001b[0;32m    292\u001b[0m \u001b[43m    \u001b[49m\u001b[43mretain_graph\u001b[49m\u001b[43m,\u001b[49m\n\u001b[0;32m    293\u001b[0m \u001b[43m    \u001b[49m\u001b[43mcreate_graph\u001b[49m\u001b[43m,\u001b[49m\n\u001b[0;32m    294\u001b[0m \u001b[43m    \u001b[49m\u001b[43minputs\u001b[49m\u001b[43m,\u001b[49m\n\u001b[0;32m    295\u001b[0m \u001b[43m    \u001b[49m\u001b[43mallow_unreachable\u001b[49m\u001b[38;5;241;43m=\u001b[39;49m\u001b[38;5;28;43;01mTrue\u001b[39;49;00m\u001b[43m,\u001b[49m\n\u001b[0;32m    296\u001b[0m \u001b[43m    \u001b[49m\u001b[43maccumulate_grad\u001b[49m\u001b[38;5;241;43m=\u001b[39;49m\u001b[38;5;28;43;01mTrue\u001b[39;49;00m\u001b[43m,\u001b[49m\n\u001b[0;32m    297\u001b[0m \u001b[43m\u001b[49m\u001b[43m)\u001b[49m\n",
      "File \u001b[1;32m~\\py_311_venv\\Lib\\site-packages\\torch\\autograd\\graph.py:769\u001b[0m, in \u001b[0;36m_engine_run_backward\u001b[1;34m(t_outputs, *args, **kwargs)\u001b[0m\n\u001b[0;32m    767\u001b[0m     unregister_hooks \u001b[38;5;241m=\u001b[39m _register_logging_hooks_on_whole_graph(t_outputs)\n\u001b[0;32m    768\u001b[0m \u001b[38;5;28;01mtry\u001b[39;00m:\n\u001b[1;32m--> 769\u001b[0m     \u001b[38;5;28;01mreturn\u001b[39;00m \u001b[43mVariable\u001b[49m\u001b[38;5;241;43m.\u001b[39;49m\u001b[43m_execution_engine\u001b[49m\u001b[38;5;241;43m.\u001b[39;49m\u001b[43mrun_backward\u001b[49m\u001b[43m(\u001b[49m\u001b[43m  \u001b[49m\u001b[38;5;66;43;03m# Calls into the C++ engine to run the backward pass\u001b[39;49;00m\n\u001b[0;32m    770\u001b[0m \u001b[43m        \u001b[49m\u001b[43mt_outputs\u001b[49m\u001b[43m,\u001b[49m\u001b[43m \u001b[49m\u001b[38;5;241;43m*\u001b[39;49m\u001b[43margs\u001b[49m\u001b[43m,\u001b[49m\u001b[43m \u001b[49m\u001b[38;5;241;43m*\u001b[39;49m\u001b[38;5;241;43m*\u001b[39;49m\u001b[43mkwargs\u001b[49m\n\u001b[0;32m    771\u001b[0m \u001b[43m    \u001b[49m\u001b[43m)\u001b[49m  \u001b[38;5;66;03m# Calls into the C++ engine to run the backward pass\u001b[39;00m\n\u001b[0;32m    772\u001b[0m \u001b[38;5;28;01mfinally\u001b[39;00m:\n\u001b[0;32m    773\u001b[0m     \u001b[38;5;28;01mif\u001b[39;00m attach_logging_hooks:\n",
      "\u001b[1;31mRuntimeError\u001b[0m: Trying to backward through the graph a second time (or directly access saved tensors after they have already been freed). Saved intermediate values of the graph are freed when you call .backward() or autograd.grad(). Specify retain_graph=True if you need to backward through the graph a second time or if you need to access saved tensors after calling backward."
     ]
    }
   ],
   "source": [
    "# Now we calculate another function of X & take grad.\n",
    "# Pytorch doesn;t reset the gradient buffer automatically.\n",
    "# We have to do it.\n",
    "# Pytorch adds a new gradient to the already stored gradient.\n",
    "\n",
    "y.backward()\n",
    "z = x.grad\n",
    "print('Z : ', z)\n",
    "\n",
    "y.backward()\n",
    "z = x.grad\n",
    "print('Z : ', z)"
   ]
  },
  {
   "cell_type": "code",
   "execution_count": 13,
   "id": "ceb5de8c-dd70-4d3e-86ba-509ff6f2bb94",
   "metadata": {},
   "outputs": [
    {
     "data": {
      "text/plain": [
       "tensor([1., 1., 1., 1.])"
      ]
     },
     "execution_count": 13,
     "metadata": {},
     "output_type": "execute_result"
    }
   ],
   "source": [
    "x.grad.zero_() # Reset it\n",
    "\n",
    "y = x.sum()\n",
    "y.backward()\n",
    "x.grad"
   ]
  },
  {
   "cell_type": "markdown",
   "id": "5c518c3a-e423-47a4-b814-887dce31f487",
   "metadata": {},
   "source": [
    "# Backward Propogration For non Scalar Variables "
   ]
  },
  {
   "cell_type": "code",
   "execution_count": 14,
   "id": "0d586d17-d362-4d88-bce2-9d7a915cec0a",
   "metadata": {},
   "outputs": [
    {
     "data": {
      "text/plain": [
       "tensor([0., 2., 4., 6.])"
      ]
     },
     "execution_count": 14,
     "metadata": {},
     "output_type": "execute_result"
    }
   ],
   "source": [
    "# For Non Scalar, we need to tell Pytorch how to convert it to scalar.\n",
    "# This means we need to give it some vector to compute the scalar product.\n",
    "\n",
    "x.grad.zero_()\n",
    "y = x * x\n",
    "y.backward(gradient = torch.ones(len(y))) # Alt - y.sum().backward()\n",
    "x.grad"
   ]
  },
  {
   "cell_type": "markdown",
   "id": "7db43954-9985-4414-8d9c-be3dba2665f5",
   "metadata": {},
   "source": [
    "# Detaching COmputation"
   ]
  },
  {
   "cell_type": "code",
   "execution_count": 15,
   "id": "a483ff2e-0726-461b-ac5f-bef0b0ef847d",
   "metadata": {},
   "outputs": [
    {
     "data": {
      "text/plain": [
       "tensor([True, True, True, True])"
      ]
     },
     "execution_count": 15,
     "metadata": {},
     "output_type": "execute_result"
    }
   ],
   "source": [
    "# Used when we made some intermediate calculations but don't want it to show up during\n",
    "# backward flow.\n",
    "\n",
    "x.grad.zero_()\n",
    "y = x*x\n",
    "u = y.detach()\n",
    "z = u*x\n",
    "\n",
    "z.sum().backward()\n",
    "\n",
    "x.grad ==u"
   ]
  },
  {
   "cell_type": "code",
   "execution_count": 16,
   "id": "66367ce9-dc1e-4a10-bfc0-1dc6e1becd93",
   "metadata": {},
   "outputs": [
    {
     "data": {
      "text/plain": [
       "tensor([True, True, True, True])"
      ]
     },
     "execution_count": 16,
     "metadata": {},
     "output_type": "execute_result"
    }
   ],
   "source": [
    "# This procedure detaches y's ancestors from the graph leading to z,\n",
    "# the computed graph leading to y persists and thus\n",
    "# we can calculate the gradients of y wrt x.\n",
    "\n",
    "x.grad.zero_()\n",
    "y.sum().backward()\n",
    "x.grad == 2 * x"
   ]
  },
  {
   "cell_type": "markdown",
   "id": "695d8b73-cb7e-46ba-8bbc-9df1f53f86c8",
   "metadata": {},
   "source": [
    "# Gradients and Python Flow Control"
   ]
  },
  {
   "cell_type": "code",
   "execution_count": 17,
   "id": "ec21b5ab-8239-47a7-93ba-3e98e04202cf",
   "metadata": {},
   "outputs": [],
   "source": [
    "# Previously the input and output had a well defined function (z = x*x*x).\n",
    "# Now we make our answer depend on auxiliary variables.\n",
    "# We can still get the gradients via automatic differentiation.\n",
    "\n",
    "def f(a):\n",
    "    b = a*2\n",
    "    while b.norm() < 1000:\n",
    "        b = b * 2\n",
    "        \n",
    "    if b.sum() > 0:\n",
    "        c = b\n",
    "\n",
    "    else:\n",
    "        c = 100*b\n",
    "\n",
    "    return c"
   ]
  },
  {
   "cell_type": "code",
   "execution_count": 18,
   "id": "ace9cc0f-a998-41e7-a9a3-775a674085a2",
   "metadata": {},
   "outputs": [
    {
     "name": "stdout",
     "output_type": "stream",
     "text": [
      "tensor(-0.1943, requires_grad=True)\n"
     ]
    }
   ],
   "source": [
    "# Defining a.\n",
    "\n",
    "a = torch.randn(size = (), requires_grad = True)\n",
    "print(a)\n",
    "\n",
    "d = f(a)\n",
    "d.backward()"
   ]
  },
  {
   "cell_type": "code",
   "execution_count": 20,
   "id": "fbc76c35-1c91-4efd-b286-17e5f50c4a75",
   "metadata": {},
   "outputs": [
    {
     "data": {
      "text/plain": [
       "tensor(False)"
      ]
     },
     "execution_count": 20,
     "metadata": {},
     "output_type": "execute_result"
    }
   ],
   "source": [
    "a.grad == d/a"
   ]
  },
  {
   "cell_type": "code",
   "execution_count": 21,
   "id": "26d2f454-8802-4074-a4e6-8dc79d6a91ca",
   "metadata": {},
   "outputs": [
    {
     "data": {
      "text/plain": [
       "tensor(819200.)"
      ]
     },
     "execution_count": 21,
     "metadata": {},
     "output_type": "execute_result"
    }
   ],
   "source": [
    "a.grad"
   ]
  },
  {
   "cell_type": "code",
   "execution_count": 22,
   "id": "89bae151-3317-4d33-a04d-f08a3293d003",
   "metadata": {},
   "outputs": [
    {
     "data": {
      "text/plain": [
       "tensor(819200.0625, grad_fn=<DivBackward0>)"
      ]
     },
     "execution_count": 22,
     "metadata": {},
     "output_type": "execute_result"
    }
   ],
   "source": [
    "d/a"
   ]
  },
  {
   "cell_type": "code",
   "execution_count": null,
   "id": "028ef352-edce-4891-b09c-98927c16c496",
   "metadata": {},
   "outputs": [],
   "source": []
  }
 ],
 "metadata": {
  "kernelspec": {
   "display_name": "Python 3 (ipykernel)",
   "language": "python",
   "name": "python3"
  },
  "language_info": {
   "codemirror_mode": {
    "name": "ipython",
    "version": 3
   },
   "file_extension": ".py",
   "mimetype": "text/x-python",
   "name": "python",
   "nbconvert_exporter": "python",
   "pygments_lexer": "ipython3",
   "version": "3.11.9"
  }
 },
 "nbformat": 4,
 "nbformat_minor": 5
}

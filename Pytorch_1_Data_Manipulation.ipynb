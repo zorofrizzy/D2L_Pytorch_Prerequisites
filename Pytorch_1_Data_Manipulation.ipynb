{
 "cells": [
  {
   "cell_type": "code",
   "execution_count": 1,
   "id": "336a7d62-f476-4df0-946e-a94fca23d7db",
   "metadata": {},
   "outputs": [],
   "source": [
    "import torch"
   ]
  },
  {
   "cell_type": "code",
   "execution_count": 2,
   "id": "d8277598-5cec-48e9-ae60-5a6c52a2cc49",
   "metadata": {},
   "outputs": [],
   "source": [
    "# Tensor = Multi dimensional array of numbers.\n",
    "# 1 D tensor = Vector\n",
    "# 2D tensor = Matrix\n",
    "# nD tensor = Kth order tensor\n"
   ]
  },
  {
   "cell_type": "code",
   "execution_count": 3,
   "id": "33735823-9a51-4413-a58e-a15fbdb6e173",
   "metadata": {},
   "outputs": [
    {
     "data": {
      "text/plain": [
       "tensor([ 0.,  1.,  2.,  3.,  4.,  5.,  6.,  7.,  8.,  9., 10., 11.])"
      ]
     },
     "execution_count": 3,
     "metadata": {},
     "output_type": "execute_result"
    }
   ],
   "source": [
    "# Create a vector of evenly spaced values\n",
    "\n",
    "x = torch.arange(12, dtype = torch.float32)\n",
    "x"
   ]
  },
  {
   "cell_type": "code",
   "execution_count": 4,
   "id": "08860e79-3481-4452-83a2-e8163e79f89d",
   "metadata": {},
   "outputs": [
    {
     "data": {
      "text/plain": [
       "12"
      ]
     },
     "execution_count": 4,
     "metadata": {},
     "output_type": "execute_result"
    }
   ],
   "source": [
    "# Total number of elements in tensor:\n",
    "x.numel()"
   ]
  },
  {
   "cell_type": "code",
   "execution_count": 5,
   "id": "b5a7b380-22f4-4e56-9eb4-2a1918f90005",
   "metadata": {},
   "outputs": [
    {
     "data": {
      "text/plain": [
       "torch.Size([12])"
      ]
     },
     "execution_count": 5,
     "metadata": {},
     "output_type": "execute_result"
    }
   ],
   "source": [
    "#Shape\n",
    "x.shape"
   ]
  },
  {
   "cell_type": "code",
   "execution_count": 6,
   "id": "a9f85cc7-1aba-4fd1-9ca3-86a4a1121395",
   "metadata": {},
   "outputs": [],
   "source": [
    "# Reshape a tensor\n",
    "\n",
    "X = x.reshape(3,4)"
   ]
  },
  {
   "cell_type": "code",
   "execution_count": 7,
   "id": "71c4458f-8d99-47af-a761-7585c0e9398b",
   "metadata": {},
   "outputs": [
    {
     "data": {
      "text/plain": [
       "tensor([[ 0.,  1.,  2.,  3.],\n",
       "        [ 4.,  5.,  6.,  7.],\n",
       "        [ 8.,  9., 10., 11.]])"
      ]
     },
     "execution_count": 7,
     "metadata": {},
     "output_type": "execute_result"
    }
   ],
   "source": [
    "X"
   ]
  },
  {
   "cell_type": "code",
   "execution_count": 8,
   "id": "f4c21aab-3e25-4c65-b61f-d3839aafc916",
   "metadata": {},
   "outputs": [
    {
     "data": {
      "text/plain": [
       "tensor([[[0., 0., 0., 0.],\n",
       "         [0., 0., 0., 0.],\n",
       "         [0., 0., 0., 0.]],\n",
       "\n",
       "        [[0., 0., 0., 0.],\n",
       "         [0., 0., 0., 0.],\n",
       "         [0., 0., 0., 0.]]])"
      ]
     },
     "execution_count": 8,
     "metadata": {},
     "output_type": "execute_result"
    }
   ],
   "source": [
    "# If you want to just fix the number of rows or columns, use x.reshape(your_reading, -1) or x.reshape( -1, your_reading)\n",
    "\n",
    "# ZEROES in TENSOR\n",
    "\n",
    "torch.zeros((2, 3, 4))"
   ]
  },
  {
   "cell_type": "code",
   "execution_count": 9,
   "id": "482829f0-9b9a-4cb8-a679-ab402c474d53",
   "metadata": {},
   "outputs": [
    {
     "data": {
      "text/plain": [
       "tensor([[[1., 1., 1., 1., 1.],\n",
       "         [1., 1., 1., 1., 1.],\n",
       "         [1., 1., 1., 1., 1.],\n",
       "         [1., 1., 1., 1., 1.]],\n",
       "\n",
       "        [[1., 1., 1., 1., 1.],\n",
       "         [1., 1., 1., 1., 1.],\n",
       "         [1., 1., 1., 1., 1.],\n",
       "         [1., 1., 1., 1., 1.]]])"
      ]
     },
     "execution_count": 9,
     "metadata": {},
     "output_type": "execute_result"
    }
   ],
   "source": [
    "#TORCH ONES\n",
    "\n",
    "torch.ones((2, 4, 5))\n"
   ]
  },
  {
   "cell_type": "code",
   "execution_count": 10,
   "id": "826c1c16-ec98-4729-8690-ca130b030498",
   "metadata": {},
   "outputs": [
    {
     "data": {
      "text/plain": [
       "tensor([[-0.0802,  0.9544,  1.2331,  0.1760],\n",
       "        [-1.2712, -0.8645,  0.4767,  1.4415],\n",
       "        [-0.3598, -0.2805,  0.7213,  0.4521]])"
      ]
     },
     "execution_count": 10,
     "metadata": {},
     "output_type": "execute_result"
    }
   ],
   "source": [
    "# Creating a random tensor:\n",
    "# It will have normal distribution ---> Mena = 0 & SD = 1\n",
    "\n",
    "torch.randn(3,4)\n"
   ]
  },
  {
   "cell_type": "code",
   "execution_count": 11,
   "id": "1bfeeb4e-8ea2-4d01-9882-3ac33e2df8c7",
   "metadata": {},
   "outputs": [
    {
     "data": {
      "text/plain": [
       "tensor([[ 2,  3,  4],\n",
       "        [45, 65,  7],\n",
       "        [23, 54,  9]])"
      ]
     },
     "execution_count": 11,
     "metadata": {},
     "output_type": "execute_result"
    }
   ],
   "source": [
    "# Creating a Tensor via Python Lists ----> Needs to be same length\n",
    "\n",
    "my_list = [[2,3,4], [45,65,7], [23,54,9]]\n",
    "\n",
    "torch.tensor(my_list)"
   ]
  },
  {
   "cell_type": "markdown",
   "id": "35426a57-fcdd-4862-8526-40108f6d8424",
   "metadata": {},
   "source": [
    "# INDEXING & SLICING"
   ]
  },
  {
   "cell_type": "code",
   "execution_count": 12,
   "id": "dd2205f9-ff5f-494b-aa6d-b99f6edada5e",
   "metadata": {},
   "outputs": [
    {
     "name": "stdout",
     "output_type": "stream",
     "text": [
      "tensor([[ 0.,  1.,  2.,  3.],\n",
      "        [ 4.,  5.,  6.,  7.],\n",
      "        [ 8.,  9., 10., 11.]])\n"
     ]
    }
   ],
   "source": [
    "print(X)"
   ]
  },
  {
   "cell_type": "code",
   "execution_count": 13,
   "id": "a6d1e306-df65-419e-98fb-0a5ba933398c",
   "metadata": {},
   "outputs": [
    {
     "data": {
      "text/plain": [
       "tensor([ 8.,  9., 10., 11.])"
      ]
     },
     "execution_count": 13,
     "metadata": {},
     "output_type": "execute_result"
    }
   ],
   "source": [
    "X[-1]"
   ]
  },
  {
   "cell_type": "code",
   "execution_count": 14,
   "id": "ded5bf11-a3a3-445a-86ba-4e3f5d6471eb",
   "metadata": {},
   "outputs": [
    {
     "data": {
      "text/plain": [
       "tensor([[ 4.,  5.,  6.,  7.],\n",
       "        [ 8.,  9., 10., 11.]])"
      ]
     },
     "execution_count": 14,
     "metadata": {},
     "output_type": "execute_result"
    }
   ],
   "source": [
    "X[1:3]"
   ]
  },
  {
   "cell_type": "code",
   "execution_count": 15,
   "id": "9a2f5d20-6ce3-42c2-b8a9-7a8821e07952",
   "metadata": {},
   "outputs": [
    {
     "data": {
      "text/plain": [
       "tensor([[ 4.,  5.,  6.,  7.],\n",
       "        [ 8.,  9., 10., 11.]])"
      ]
     },
     "execution_count": 15,
     "metadata": {},
     "output_type": "execute_result"
    }
   ],
   "source": [
    "X[1:]"
   ]
  },
  {
   "cell_type": "code",
   "execution_count": 16,
   "id": "cb3a81d7-3651-43d1-8aee-20c44f6870be",
   "metadata": {},
   "outputs": [
    {
     "name": "stdout",
     "output_type": "stream",
     "text": [
      "tensor(6.)\n",
      "tensor(69.)\n",
      "tensor([[ 0.,  1.,  2.,  3.],\n",
      "        [ 4.,  5., 69.,  7.],\n",
      "        [ 8.,  9., 10., 11.]])\n"
     ]
    }
   ],
   "source": [
    "# Modifying a tensor:\n",
    "\n",
    "print(X[1,2])\n",
    "\n",
    "X[1,2] = 69\n",
    "\n",
    "print(X[1,2])\n",
    "print(X)"
   ]
  },
  {
   "cell_type": "code",
   "execution_count": 17,
   "id": "7afa89bd-b9b3-4c93-b069-7521187b097c",
   "metadata": {},
   "outputs": [
    {
     "data": {
      "text/plain": [
       "tensor([[6969., 6969., 6969., 6969.],\n",
       "        [6969., 6969., 6969., 6969.],\n",
       "        [   8.,    9.,   10.,   11.]])"
      ]
     },
     "execution_count": 17,
     "metadata": {},
     "output_type": "execute_result"
    }
   ],
   "source": [
    "X[:2, :] = 6969\n",
    "X"
   ]
  },
  {
   "cell_type": "markdown",
   "id": "ce56d892-a2b0-4967-971f-d99f981bc300",
   "metadata": {},
   "source": [
    "# Mathematical Operations"
   ]
  },
  {
   "cell_type": "code",
   "execution_count": 18,
   "id": "34dd0085-d1ac-4d57-a97e-ac346d74aba6",
   "metadata": {},
   "outputs": [
    {
     "data": {
      "text/plain": [
       "tensor([[6969., 6969., 6969., 6969.],\n",
       "        [6969., 6969., 6969., 6969.],\n",
       "        [   8.,    9.,   10.,   11.]])"
      ]
     },
     "execution_count": 18,
     "metadata": {},
     "output_type": "execute_result"
    }
   ],
   "source": [
    "X"
   ]
  },
  {
   "cell_type": "code",
   "execution_count": 19,
   "id": "4eb0b6e8-7519-481d-a726-e538cebfecff",
   "metadata": {},
   "outputs": [
    {
     "data": {
      "text/plain": [
       "tensor([       inf,        inf,        inf,        inf,        inf,        inf,\n",
       "               inf,        inf,  2980.9580,  8103.0840, 22026.4648, 59874.1406])"
      ]
     },
     "execution_count": 19,
     "metadata": {},
     "output_type": "execute_result"
    }
   ],
   "source": [
    "# EXP\n",
    "torch.exp(x)\n"
   ]
  },
  {
   "cell_type": "code",
   "execution_count": 20,
   "id": "c230dbb9-a4d7-4c17-9bca-8a367bae7d54",
   "metadata": {},
   "outputs": [
    {
     "data": {
      "text/plain": [
       "(tensor([ 6.,  7.,  8., 10.]),\n",
       " tensor([-4., -3., -2.,  0.]),\n",
       " tensor([ 5., 10., 15., 25.]),\n",
       " tensor([0.2000, 0.4000, 0.6000, 1.0000]),\n",
       " tensor([1.0000e+00, 3.2000e+01, 2.4300e+02, 3.1250e+03]))"
      ]
     },
     "execution_count": 20,
     "metadata": {},
     "output_type": "execute_result"
    }
   ],
   "source": [
    "x = torch.tensor([1.0, 2, 3, 5])\n",
    "y = torch.tensor([5, 5, 5, 5])\n",
    "\n",
    "x+y, x-y, x*y, x/y, x**y"
   ]
  },
  {
   "cell_type": "code",
   "execution_count": 21,
   "id": "8c9c7fd2-0ba7-46ed-b6c5-eeaac0d7aca8",
   "metadata": {},
   "outputs": [
    {
     "name": "stdout",
     "output_type": "stream",
     "text": [
      "tensor([[0.0000e+00, 1.0000e+00, 2.0000e+00, 3.0000e+00],\n",
      "        [4.0000e+00, 5.0000e+00, 6.0000e+00, 7.0000e+00],\n",
      "        [8.0000e+00, 9.0000e+00, 1.0000e+01, 1.1000e+01],\n",
      "        [2.0000e+02, 1.0000e+02, 4.0000e+02, 3.0000e+02],\n",
      "        [1.0000e+01, 2.0000e+01, 3.0000e+01, 4.0000e+01],\n",
      "        [4.0000e+03, 3.0000e+03, 2.0000e+03, 1.0000e+03]])\n",
      "tensor([[0.0000e+00, 1.0000e+00, 2.0000e+00, 3.0000e+00, 2.0000e+02, 1.0000e+02,\n",
      "         4.0000e+02, 3.0000e+02],\n",
      "        [4.0000e+00, 5.0000e+00, 6.0000e+00, 7.0000e+00, 1.0000e+01, 2.0000e+01,\n",
      "         3.0000e+01, 4.0000e+01],\n",
      "        [8.0000e+00, 9.0000e+00, 1.0000e+01, 1.1000e+01, 4.0000e+03, 3.0000e+03,\n",
      "         2.0000e+03, 1.0000e+03]])\n"
     ]
    }
   ],
   "source": [
    "# Concatenate Tensors\n",
    "\n",
    "X = torch.arange(12, dtype = torch.float32).reshape((3,4))\n",
    "Y = torch.tensor([[200, 100, 400, 300], [10,20,30,40], [4000,3000,2000,1000]])\n",
    "\n",
    "# Concatenate Row Wise\n",
    "\n",
    "print(torch.cat((X, Y), dim = 0))\n",
    "\n",
    "# COncatenate Column Wise\n",
    "\n",
    "\n",
    "print(torch.cat((X, Y), dim = 1))\n"
   ]
  },
  {
   "cell_type": "code",
   "execution_count": 22,
   "id": "8a5a71f2-555b-4e0d-b4f4-8f9b5c67cc7e",
   "metadata": {},
   "outputs": [
    {
     "data": {
      "text/plain": [
       "tensor([[False, False, False, False],\n",
       "        [False, False, False, False],\n",
       "        [False, False, False, False]])"
      ]
     },
     "execution_count": 22,
     "metadata": {},
     "output_type": "execute_result"
    }
   ],
   "source": [
    "# Scalar Equality\n",
    "\n",
    "X==Y\n"
   ]
  },
  {
   "cell_type": "code",
   "execution_count": 23,
   "id": "b23e2d00-8f55-41ee-8a6a-3655f2b56b96",
   "metadata": {},
   "outputs": [
    {
     "data": {
      "text/plain": [
       "tensor(66.)"
      ]
     },
     "execution_count": 23,
     "metadata": {},
     "output_type": "execute_result"
    }
   ],
   "source": [
    "# Sum of all tensors:\n",
    "\n",
    "X.sum()"
   ]
  },
  {
   "cell_type": "markdown",
   "id": "27c57eac-5837-4681-a29b-d5125b66a1a3",
   "metadata": {},
   "source": [
    "# BROADCASTING"
   ]
  },
  {
   "cell_type": "code",
   "execution_count": 24,
   "id": "b425bc6d-df9b-4be3-bb52-bbf323571151",
   "metadata": {},
   "outputs": [],
   "source": [
    "# When the sizes of two tensors is not same, we need to broadcast the data.\n",
    "# 1. Expand Both arrays so that the shape becomes the same.\n",
    "# 2. Perform an ekementwise operation on resulting arrays.\n"
   ]
  },
  {
   "cell_type": "code",
   "execution_count": 25,
   "id": "8dc4d7af-32eb-4a2e-84ce-9c3d6f703dad",
   "metadata": {},
   "outputs": [
    {
     "data": {
      "text/plain": [
       "(tensor([[0],\n",
       "         [1],\n",
       "         [2],\n",
       "         [3],\n",
       "         [4]]),\n",
       " tensor([[0, 1]]))"
      ]
     },
     "execution_count": 25,
     "metadata": {},
     "output_type": "execute_result"
    }
   ],
   "source": [
    "# Creating two tensors of unequal dimensions\n",
    "\n",
    "a = torch.arange(5).reshape((-1,1))\n",
    "b = torch.arange(2).reshape((1,2))\n",
    "\n",
    "a, b"
   ]
  },
  {
   "cell_type": "code",
   "execution_count": 26,
   "id": "ac9ce75c-0e0b-4ce8-bac7-2ec3523cc847",
   "metadata": {},
   "outputs": [
    {
     "data": {
      "text/plain": [
       "tensor([[0, 1],\n",
       "        [1, 2],\n",
       "        [2, 3],\n",
       "        [3, 4],\n",
       "        [4, 5]])"
      ]
     },
     "execution_count": 26,
     "metadata": {},
     "output_type": "execute_result"
    }
   ],
   "source": [
    "a +b"
   ]
  },
  {
   "cell_type": "code",
   "execution_count": 27,
   "id": "57cce9e5-eee9-49db-a9c2-a4e0ecc6aae4",
   "metadata": {},
   "outputs": [
    {
     "data": {
      "text/plain": [
       "False"
      ]
     },
     "execution_count": 27,
     "metadata": {},
     "output_type": "execute_result"
    }
   ],
   "source": [
    "# Pytorch creates a new memory allocation to save data.\n",
    "# You don't want this to happen as this means that your memory is being eaten up.\n",
    "\n",
    "before = id(Y)\n",
    "Y = Y+X\n",
    "\n",
    "id(Y) == before"
   ]
  },
  {
   "cell_type": "code",
   "execution_count": 28,
   "id": "2a2ab020-1f5d-4475-8e6f-2b6cd092d6e7",
   "metadata": {},
   "outputs": [
    {
     "name": "stdout",
     "output_type": "stream",
     "text": [
      "ID(X) :  1806536457696\n",
      "ID(X) :  1806536457696\n"
     ]
    }
   ],
   "source": [
    "# So you want to make updates in place.\n",
    "\n",
    "#Z = torch.zeros_like(Y)\n",
    "print('ID(X) : ', id(X))\n",
    "X[:] = X+Y\n",
    "print('ID(X) : ', id(X))"
   ]
  },
  {
   "cell_type": "markdown",
   "id": "fb5ee7d3-773c-46bb-b65b-b99f65bb67bb",
   "metadata": {},
   "source": [
    "# Conversion to Other Python Objects"
   ]
  },
  {
   "cell_type": "code",
   "execution_count": 29,
   "id": "746b0ad7-d813-49aa-8f75-439cb2b0bad9",
   "metadata": {},
   "outputs": [
    {
     "data": {
      "text/plain": [
       "(numpy.ndarray, torch.Tensor)"
      ]
     },
     "execution_count": 29,
     "metadata": {},
     "output_type": "execute_result"
    }
   ],
   "source": [
    "A = X.numpy()\n",
    "B = torch.from_numpy(A)\n",
    "type(A), type(B)"
   ]
  },
  {
   "cell_type": "code",
   "execution_count": 33,
   "id": "c1f5d6f0-6c9b-42e8-a208-745800bea696",
   "metadata": {},
   "outputs": [
    {
     "data": {
      "text/plain": [
       "(tensor([58]), 58, 58.0, 58)"
      ]
     },
     "execution_count": 33,
     "metadata": {},
     "output_type": "execute_result"
    }
   ],
   "source": [
    "# FOr single element Tensor, use item.\n",
    "\n",
    "a = torch.tensor([58])\n",
    "a, a.item(), float(a), int(a)"
   ]
  },
  {
   "cell_type": "code",
   "execution_count": 34,
   "id": "06f10ea5-f30b-436a-8e4c-72703a5df325",
   "metadata": {},
   "outputs": [
    {
     "data": {
      "text/plain": [
       "tensor([[ True, False, False, False],\n",
       "        [False, False, False, False],\n",
       "        [False, False, False, False]])"
      ]
     },
     "execution_count": 34,
     "metadata": {},
     "output_type": "execute_result"
    }
   ],
   "source": [
    "X ==Y"
   ]
  },
  {
   "cell_type": "code",
   "execution_count": 35,
   "id": "32eb1aa6-4499-4985-b3c8-43800170dd87",
   "metadata": {},
   "outputs": [
    {
     "data": {
      "text/plain": [
       "tensor([[False, False, False, False],\n",
       "        [False, False, False, False],\n",
       "        [False, False, False, False]])"
      ]
     },
     "execution_count": 35,
     "metadata": {},
     "output_type": "execute_result"
    }
   ],
   "source": [
    "X < Y"
   ]
  },
  {
   "cell_type": "code",
   "execution_count": 36,
   "id": "50568514-67cf-4a62-b947-340d151f85eb",
   "metadata": {},
   "outputs": [
    {
     "data": {
      "text/plain": [
       "tensor([[False,  True,  True,  True],\n",
       "        [ True,  True,  True,  True],\n",
       "        [ True,  True,  True,  True]])"
      ]
     },
     "execution_count": 36,
     "metadata": {},
     "output_type": "execute_result"
    }
   ],
   "source": [
    "X > Y"
   ]
  },
  {
   "cell_type": "code",
   "execution_count": 37,
   "id": "cec19673-f30d-49fe-844b-b298245ce3f0",
   "metadata": {},
   "outputs": [
    {
     "data": {
      "text/plain": [
       "tensor([[ 200.,  102.,  404.,  306.],\n",
       "        [  18.,   30.,   42.,   54.],\n",
       "        [4016., 3018., 2020., 1022.]])"
      ]
     },
     "execution_count": 37,
     "metadata": {},
     "output_type": "execute_result"
    }
   ],
   "source": [
    "X"
   ]
  },
  {
   "cell_type": "code",
   "execution_count": 38,
   "id": "a9854d68-9c08-48bc-bc3f-bd8f4cb51236",
   "metadata": {},
   "outputs": [
    {
     "data": {
      "text/plain": [
       "tensor([[ 200.,  101.,  402.,  303.],\n",
       "        [  14.,   25.,   36.,   47.],\n",
       "        [4008., 3009., 2010., 1011.]])"
      ]
     },
     "execution_count": 38,
     "metadata": {},
     "output_type": "execute_result"
    }
   ],
   "source": [
    "Y"
   ]
  },
  {
   "cell_type": "code",
   "execution_count": 42,
   "id": "37d617f3-0f05-4b64-bc17-6badb3293627",
   "metadata": {},
   "outputs": [
    {
     "ename": "RuntimeError",
     "evalue": "The size of tensor a (3) must match the size of tensor b (5) at non-singleton dimension 1",
     "output_type": "error",
     "traceback": [
      "\u001b[1;31m---------------------------------------------------------------------------\u001b[0m",
      "\u001b[1;31mRuntimeError\u001b[0m                              Traceback (most recent call last)",
      "Cell \u001b[1;32mIn[42], line 4\u001b[0m\n\u001b[0;32m      1\u001b[0m new \u001b[38;5;241m=\u001b[39m torch\u001b[38;5;241m.\u001b[39mtensor([[\u001b[38;5;241m1\u001b[39m,\u001b[38;5;241m2\u001b[39m,\u001b[38;5;241m3\u001b[39m], [\u001b[38;5;241m4\u001b[39m,\u001b[38;5;241m5\u001b[39m,\u001b[38;5;241m6\u001b[39m], [\u001b[38;5;241m7\u001b[39m,\u001b[38;5;241m8\u001b[39m,\u001b[38;5;241m9\u001b[39m]])\n\u001b[0;32m      2\u001b[0m new_2 \u001b[38;5;241m=\u001b[39m torch\u001b[38;5;241m.\u001b[39marange(\u001b[38;5;241m5\u001b[39m,dtype \u001b[38;5;241m=\u001b[39m torch\u001b[38;5;241m.\u001b[39mfloat32)\n\u001b[1;32m----> 4\u001b[0m \u001b[43mnew\u001b[49m\u001b[38;5;241;43m+\u001b[39;49m\u001b[43mnew_2\u001b[49m\n",
      "\u001b[1;31mRuntimeError\u001b[0m: The size of tensor a (3) must match the size of tensor b (5) at non-singleton dimension 1"
     ]
    }
   ],
   "source": [
    "new = torch.tensor([[1,2,3], [4,5,6], [7,8,9]])\n",
    "new_2 = torch.arange(5,dtype = torch.float32)\n",
    "\n",
    "new+new_2\n",
    "\n"
   ]
  },
  {
   "cell_type": "code",
   "execution_count": null,
   "id": "58925824-8d9b-4018-9934-05b6170c0967",
   "metadata": {},
   "outputs": [],
   "source": []
  }
 ],
 "metadata": {
  "kernelspec": {
   "display_name": "Python 3 (ipykernel)",
   "language": "python",
   "name": "python3"
  },
  "language_info": {
   "codemirror_mode": {
    "name": "ipython",
    "version": 3
   },
   "file_extension": ".py",
   "mimetype": "text/x-python",
   "name": "python",
   "nbconvert_exporter": "python",
   "pygments_lexer": "ipython3",
   "version": "3.12.6"
  }
 },
 "nbformat": 4,
 "nbformat_minor": 5
}

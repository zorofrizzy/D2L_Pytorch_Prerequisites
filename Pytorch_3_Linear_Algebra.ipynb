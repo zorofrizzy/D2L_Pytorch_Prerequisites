{
 "cells": [
  {
   "cell_type": "code",
   "execution_count": 1,
   "id": "995fee53-c2b0-401c-b55e-ec00b0b0c711",
   "metadata": {},
   "outputs": [],
   "source": [
    "# Scalar Arithmetic and Matrix Multiplication\n",
    "\n",
    "import torch"
   ]
  },
  {
   "cell_type": "code",
   "execution_count": 2,
   "id": "1ee91030-289e-4813-ae81-7fdb5378dc3d",
   "metadata": {},
   "outputs": [
    {
     "data": {
      "text/plain": [
       "(tensor(5.), tensor(1.), tensor(6.), tensor(1.5000), tensor(9.))"
      ]
     },
     "execution_count": 2,
     "metadata": {},
     "output_type": "execute_result"
    }
   ],
   "source": [
    "# Scalar operations\n",
    "\n",
    "x = torch.tensor(3.0)\n",
    "y = torch.tensor(2.0)\n",
    "\n",
    "x+y, x-y, x*y, x/y, x**y\n"
   ]
  },
  {
   "cell_type": "code",
   "execution_count": 3,
   "id": "722889c1-1fb4-4045-bfa1-13796441f654",
   "metadata": {},
   "outputs": [
    {
     "data": {
      "text/plain": [
       "tensor([0, 1, 2])"
      ]
     },
     "execution_count": 3,
     "metadata": {},
     "output_type": "execute_result"
    }
   ],
   "source": [
    "# Vectors are 1st order tensors\n",
    "\n",
    "x = torch.arange(3)\n",
    "x"
   ]
  },
  {
   "cell_type": "code",
   "execution_count": 4,
   "id": "e045e129-1034-4c2f-a2b9-e852c6bbf26a",
   "metadata": {},
   "outputs": [
    {
     "data": {
      "text/plain": [
       "tensor(2)"
      ]
     },
     "execution_count": 4,
     "metadata": {},
     "output_type": "execute_result"
    }
   ],
   "source": [
    "x[2]"
   ]
  },
  {
   "cell_type": "code",
   "execution_count": 5,
   "id": "4ba60a9c-efaa-41bd-81aa-44bcffc2a67d",
   "metadata": {},
   "outputs": [
    {
     "data": {
      "text/plain": [
       "3"
      ]
     },
     "execution_count": 5,
     "metadata": {},
     "output_type": "execute_result"
    }
   ],
   "source": [
    "len(x)"
   ]
  },
  {
   "cell_type": "code",
   "execution_count": 7,
   "id": "73ab1383-95bc-4672-96f2-aaecfe9038ce",
   "metadata": {},
   "outputs": [
    {
     "data": {
      "text/plain": [
       "torch.Size([3])"
      ]
     },
     "execution_count": 7,
     "metadata": {},
     "output_type": "execute_result"
    }
   ],
   "source": [
    "x.shape"
   ]
  },
  {
   "cell_type": "code",
   "execution_count": null,
   "id": "1182bcbb-3fb9-467b-83d6-4ae5f3dfd687",
   "metadata": {},
   "outputs": [],
   "source": []
  },
  {
   "cell_type": "markdown",
   "id": "cb39c333-4eba-4904-bb05-c4212ea2439f",
   "metadata": {},
   "source": [
    "# Matrices "
   ]
  },
  {
   "cell_type": "code",
   "execution_count": 8,
   "id": "2d3c6a8c-be47-4083-a980-d32560c75583",
   "metadata": {},
   "outputs": [
    {
     "data": {
      "text/plain": [
       "tensor([[0, 1],\n",
       "        [2, 3],\n",
       "        [4, 5]])"
      ]
     },
     "execution_count": 8,
     "metadata": {},
     "output_type": "execute_result"
    }
   ],
   "source": [
    "# Scalar = 0th order tensor\n",
    "# Vector = 1st order tensor\n",
    "# Matrix = 2nd order tensor\n",
    "\n",
    "A = torch.arange(6).reshape(3, 2)\n",
    "A\n",
    "\n"
   ]
  },
  {
   "cell_type": "code",
   "execution_count": 9,
   "id": "980e3499-8b3a-487b-86de-8963c47e66a0",
   "metadata": {},
   "outputs": [
    {
     "data": {
      "text/plain": [
       "tensor([[0, 2, 4],\n",
       "        [1, 3, 5]])"
      ]
     },
     "execution_count": 9,
     "metadata": {},
     "output_type": "execute_result"
    }
   ],
   "source": [
    "# Transpose of a Tensor Matrix\n",
    "A.T"
   ]
  },
  {
   "cell_type": "code",
   "execution_count": 10,
   "id": "8e12073f-4098-4676-90fb-9288c1202345",
   "metadata": {},
   "outputs": [
    {
     "data": {
      "text/plain": [
       "tensor([[True, True, True],\n",
       "        [True, True, True],\n",
       "        [True, True, True]])"
      ]
     },
     "execution_count": 10,
     "metadata": {},
     "output_type": "execute_result"
    }
   ],
   "source": [
    "# SYmmetric Matrices\n",
    "\n",
    "A = torch.tensor([[1,2,3], [2,0,4], [3,4,5]])\n",
    "A == A.T"
   ]
  },
  {
   "cell_type": "markdown",
   "id": "5a148595-6d8e-4dd0-aad9-9a928751c263",
   "metadata": {},
   "source": [
    "# Tensors"
   ]
  },
  {
   "cell_type": "code",
   "execution_count": 11,
   "id": "107c6247-c52f-4fa8-82a1-3d5114e931dc",
   "metadata": {},
   "outputs": [
    {
     "data": {
      "text/plain": [
       "tensor([[[ 0,  1,  2,  3],\n",
       "         [ 4,  5,  6,  7],\n",
       "         [ 8,  9, 10, 11]],\n",
       "\n",
       "        [[12, 13, 14, 15],\n",
       "         [16, 17, 18, 19],\n",
       "         [20, 21, 22, 23]]])"
      ]
     },
     "execution_count": 11,
     "metadata": {},
     "output_type": "execute_result"
    }
   ],
   "source": [
    "# Higher order arrays (nth where n > 2)\n",
    "\n",
    "torch.arange(24).reshape(2,3,4)"
   ]
  },
  {
   "cell_type": "markdown",
   "id": "72e2f343-8f59-4733-aeb7-9c3b310f5518",
   "metadata": {},
   "source": [
    "# Basic Properties of Tensor Arithmetic"
   ]
  },
  {
   "cell_type": "code",
   "execution_count": 12,
   "id": "9a07c55f-6c8a-4e4b-9f28-12721cc2f78d",
   "metadata": {},
   "outputs": [
    {
     "data": {
      "text/plain": [
       "(tensor([[0., 1., 2.],\n",
       "         [3., 4., 5.]]),\n",
       " tensor([[ 0.,  2.,  4.],\n",
       "         [ 6.,  8., 10.]]))"
      ]
     },
     "execution_count": 12,
     "metadata": {},
     "output_type": "execute_result"
    }
   ],
   "source": [
    "# Element wise operations have same shape as operands.\n",
    "\n",
    "A = torch.arange(6, dtype=torch.float32).reshape(2,3)\n",
    "B = A.clone()\n",
    "A, A+B"
   ]
  },
  {
   "cell_type": "code",
   "execution_count": 13,
   "id": "c576698b-45d7-4842-8da9-dcea9437bcab",
   "metadata": {},
   "outputs": [
    {
     "data": {
      "text/plain": [
       "tensor([[ 0.,  1.,  4.],\n",
       "        [ 9., 16., 25.]])"
      ]
     },
     "execution_count": 13,
     "metadata": {},
     "output_type": "execute_result"
    }
   ],
   "source": [
    "A*B"
   ]
  },
  {
   "cell_type": "code",
   "execution_count": 14,
   "id": "86b65e6e-96b6-4c88-9420-3d5f689f6553",
   "metadata": {},
   "outputs": [
    {
     "data": {
      "text/plain": [
       "tensor([[nan, 1., 1.],\n",
       "        [1., 1., 1.]])"
      ]
     },
     "execution_count": 14,
     "metadata": {},
     "output_type": "execute_result"
    }
   ],
   "source": [
    "A/B"
   ]
  },
  {
   "cell_type": "code",
   "execution_count": 15,
   "id": "5337aeed-cdba-43c5-8ca7-45fbb45755a0",
   "metadata": {},
   "outputs": [
    {
     "data": {
      "text/plain": [
       "(tensor([[[ 2,  3,  4,  5],\n",
       "          [ 6,  7,  8,  9],\n",
       "          [10, 11, 12, 13]],\n",
       " \n",
       "         [[14, 15, 16, 17],\n",
       "          [18, 19, 20, 21],\n",
       "          [22, 23, 24, 25]]]),\n",
       " torch.Size([2, 3, 4]))"
      ]
     },
     "execution_count": 15,
     "metadata": {},
     "output_type": "execute_result"
    }
   ],
   "source": [
    "# Scalar Tensor Addition Multiplication\n",
    "\n",
    "a = 2\n",
    "X = torch.arange(24).reshape(2,3,4)\n",
    "a + X, (a*X).shape"
   ]
  },
  {
   "cell_type": "markdown",
   "id": "a2220606-6406-485d-9f11-a22941dd3671",
   "metadata": {},
   "source": [
    "# Reduction"
   ]
  },
  {
   "cell_type": "code",
   "execution_count": 16,
   "id": "a5198740-5634-4da2-b1d1-ba70d1e38fce",
   "metadata": {},
   "outputs": [
    {
     "data": {
      "text/plain": [
       "(tensor([0., 1., 2.]), tensor(3.))"
      ]
     },
     "execution_count": 16,
     "metadata": {},
     "output_type": "execute_result"
    }
   ],
   "source": [
    "# Sum of Tensors\n",
    "\n",
    "x = torch.arange(3, dtype=torch.float32)\n",
    "x, x.sum()"
   ]
  },
  {
   "cell_type": "code",
   "execution_count": 17,
   "id": "b65d347c-90fd-49c8-9b12-d5473c6b5dee",
   "metadata": {},
   "outputs": [
    {
     "data": {
      "text/plain": [
       "tensor([[0., 1., 2.],\n",
       "        [3., 4., 5.]])"
      ]
     },
     "execution_count": 17,
     "metadata": {},
     "output_type": "execute_result"
    }
   ],
   "source": [
    "A"
   ]
  },
  {
   "cell_type": "code",
   "execution_count": 18,
   "id": "d6c388d6-0cc1-4d97-bcf1-406034096159",
   "metadata": {},
   "outputs": [
    {
     "data": {
      "text/plain": [
       "(torch.Size([2, 3]), tensor(15.))"
      ]
     },
     "execution_count": 18,
     "metadata": {},
     "output_type": "execute_result"
    }
   ],
   "source": [
    "A.shape, A.sum()"
   ]
  },
  {
   "cell_type": "code",
   "execution_count": 19,
   "id": "f808b436-1d3f-4eb0-9e50-5fdb5f3b76d0",
   "metadata": {},
   "outputs": [
    {
     "data": {
      "text/plain": [
       "(torch.Size([2, 3]), tensor([3., 5., 7.]), torch.Size([3]))"
      ]
     },
     "execution_count": 19,
     "metadata": {},
     "output_type": "execute_result"
    }
   ],
   "source": [
    "# Sum of rows.\n",
    "\n",
    "A.shape, A.sum(axis = 0),  A.sum(axis = 0).shape"
   ]
  },
  {
   "cell_type": "code",
   "execution_count": 20,
   "id": "e54f61f1-7d15-4445-b2df-1fca165d92fb",
   "metadata": {},
   "outputs": [
    {
     "data": {
      "text/plain": [
       "(torch.Size([2, 3]), tensor([ 3., 12.]), torch.Size([2]))"
      ]
     },
     "execution_count": 20,
     "metadata": {},
     "output_type": "execute_result"
    }
   ],
   "source": [
    "# Sum of Columns\n",
    "\n",
    "\n",
    "A.shape, A.sum(axis = 1),  A.sum(axis = 1).shape"
   ]
  },
  {
   "cell_type": "code",
   "execution_count": 21,
   "id": "ae7d85ac-f865-4224-8f1a-8fccbbbfdeae",
   "metadata": {},
   "outputs": [
    {
     "data": {
      "text/plain": [
       "(tensor(2.5000), tensor(2.5000))"
      ]
     },
     "execution_count": 21,
     "metadata": {},
     "output_type": "execute_result"
    }
   ],
   "source": [
    "# Mean of Tensors\n",
    "\n",
    "A.mean(), A.sum() / A.numel()"
   ]
  },
  {
   "cell_type": "code",
   "execution_count": 22,
   "id": "1dec6e07-ee89-4a80-a3ac-77a4d3b4b1d3",
   "metadata": {},
   "outputs": [
    {
     "data": {
      "text/plain": [
       "(tensor([1.5000, 2.5000, 3.5000]), tensor([1.5000, 2.5000, 3.5000]))"
      ]
     },
     "execution_count": 22,
     "metadata": {},
     "output_type": "execute_result"
    }
   ],
   "source": [
    "# Mean along an axis:\n",
    "\n",
    "A.mean(axis = 0), A.sum(axis = 0) / A.shape[0]"
   ]
  },
  {
   "cell_type": "markdown",
   "id": "abd9c5b6-c099-4bbd-a173-798101c5cf02",
   "metadata": {},
   "source": [
    "# Non Reduction Sum"
   ]
  },
  {
   "cell_type": "code",
   "execution_count": 23,
   "id": "16968223-23a5-4bf3-b5b7-13dc9220eb8c",
   "metadata": {},
   "outputs": [
    {
     "data": {
      "text/plain": [
       "(tensor([[ 3.],\n",
       "         [12.]]),\n",
       " torch.Size([2, 1]))"
      ]
     },
     "execution_count": 23,
     "metadata": {},
     "output_type": "execute_result"
    }
   ],
   "source": [
    "# Keeping the axes unchanged to calculate the sum or mean. Works for broadcast mechanism.\n",
    "\n",
    "sum_A = A.sum(axis = 1, keepdims = True) # dimension or dimensions to reduce. If False, all dimensions are reduced.\n",
    "sum_A, sum_A.shape"
   ]
  },
  {
   "cell_type": "code",
   "execution_count": 24,
   "id": "e41186c3-b0d0-4a0c-8832-c37392eb8307",
   "metadata": {},
   "outputs": [
    {
     "data": {
      "text/plain": [
       "tensor([[0., 1., 2.],\n",
       "        [3., 4., 5.]])"
      ]
     },
     "execution_count": 24,
     "metadata": {},
     "output_type": "execute_result"
    }
   ],
   "source": [
    "A"
   ]
  },
  {
   "cell_type": "code",
   "execution_count": 25,
   "id": "70315e31-c3df-4cf7-af34-2404021739e6",
   "metadata": {},
   "outputs": [
    {
     "data": {
      "text/plain": [
       "tensor([[0.0000, 0.3333, 0.6667],\n",
       "        [0.2500, 0.3333, 0.4167]])"
      ]
     },
     "execution_count": 25,
     "metadata": {},
     "output_type": "execute_result"
    }
   ],
   "source": [
    "A/ sum_A"
   ]
  },
  {
   "cell_type": "code",
   "execution_count": 26,
   "id": "8d75d867-0e6b-4ec0-9e2d-24d534eafd6c",
   "metadata": {},
   "outputs": [
    {
     "data": {
      "text/plain": [
       "tensor([[0., 1., 2.],\n",
       "        [3., 5., 7.]])"
      ]
     },
     "execution_count": 26,
     "metadata": {},
     "output_type": "execute_result"
    }
   ],
   "source": [
    "# Cumulative sum across axis\n",
    "\n",
    "A.cumsum(axis = 0)"
   ]
  },
  {
   "cell_type": "markdown",
   "id": "4dffd3cf-e1eb-41e2-8eac-19f534972617",
   "metadata": {},
   "source": [
    "# Dot Products"
   ]
  },
  {
   "cell_type": "code",
   "execution_count": 27,
   "id": "51807580-e577-4fe7-b0d0-bcc5b139116d",
   "metadata": {},
   "outputs": [
    {
     "data": {
      "text/plain": [
       "(tensor([0., 1., 2.]), tensor([1., 1., 1.]), tensor(3.))"
      ]
     },
     "execution_count": 27,
     "metadata": {},
     "output_type": "execute_result"
    }
   ],
   "source": [
    "# Dot Product = ∑ (xi * yi)\n",
    "\n",
    "y = torch.ones(3, dtype = torch.float32)\n",
    "\n",
    "x, y, torch.dot(x, y)"
   ]
  },
  {
   "cell_type": "code",
   "execution_count": 28,
   "id": "ef59d685-7314-4b2b-ab44-36009240fa9c",
   "metadata": {},
   "outputs": [
    {
     "data": {
      "text/plain": [
       "tensor(3.)"
      ]
     },
     "execution_count": 28,
     "metadata": {},
     "output_type": "execute_result"
    }
   ],
   "source": [
    "# Alternatively Dot product = SUM( X*Y)\n",
    "\n",
    "torch.sum(x*y)"
   ]
  },
  {
   "cell_type": "code",
   "execution_count": 29,
   "id": "5bf30bc2-2a59-455d-9046-517079b39f71",
   "metadata": {},
   "outputs": [],
   "source": [
    "# Dot product when = 1 denotes the mean\n",
    "# Generally it is the weighted average of elements\n",
    "# Dot Product expresses the cosine of angle between vectors.\n"
   ]
  },
  {
   "cell_type": "markdown",
   "id": "d6fe30de-994b-4ea0-8500-f77deb8e80b3",
   "metadata": {},
   "source": [
    "# Matrix - Vector Products"
   ]
  },
  {
   "cell_type": "code",
   "execution_count": 30,
   "id": "7c2ad5d4-9bc5-4c7c-b1c5-4a7aa244621a",
   "metadata": {},
   "outputs": [
    {
     "data": {
      "text/plain": [
       "(torch.Size([2, 3]), torch.Size([3]), tensor([ 5., 14.]), tensor([ 5., 14.]))"
      ]
     },
     "execution_count": 30,
     "metadata": {},
     "output_type": "execute_result"
    }
   ],
   "source": [
    "# torch.mv is used to get the matrix-vector product.\n",
    "# Python also uses M @ V to compute the matrix-vector or matrci-matrix product\n",
    "# Multiplication possible in case of Matrix m*n and vector n*p (p=1 for vector, p > 1 for matrix multiplication\n",
    "\n",
    "A.shape, x.shape, torch.mv(A,x), A@x"
   ]
  },
  {
   "cell_type": "markdown",
   "id": "40a462df-86f1-485f-99a8-8600799befcd",
   "metadata": {},
   "source": [
    "# Matrix - Matrix Multiplication"
   ]
  },
  {
   "cell_type": "code",
   "execution_count": 31,
   "id": "3b2f8125-3e62-45f0-b123-2c02f2d49424",
   "metadata": {},
   "outputs": [
    {
     "data": {
      "text/plain": [
       "(tensor([[ 3.,  3.,  3.,  3.],\n",
       "         [12., 12., 12., 12.]]),\n",
       " tensor([[ 3.,  3.,  3.,  3.],\n",
       "         [12., 12., 12., 12.]]))"
      ]
     },
     "execution_count": 31,
     "metadata": {},
     "output_type": "execute_result"
    }
   ],
   "source": [
    "# Matrices need to be of the order m*n, n*p\n",
    "\n",
    "B = torch.ones(3, 4)\n",
    "torch.mm(A, B), A@B"
   ]
  },
  {
   "cell_type": "code",
   "execution_count": 32,
   "id": "241064a5-6436-475e-aec1-de43fe5c0b5f",
   "metadata": {},
   "outputs": [
    {
     "data": {
      "text/plain": [
       "tensor([[0., 1., 2.],\n",
       "        [3., 4., 5.]])"
      ]
     },
     "execution_count": 32,
     "metadata": {},
     "output_type": "execute_result"
    }
   ],
   "source": [
    "A"
   ]
  },
  {
   "cell_type": "code",
   "execution_count": 33,
   "id": "392620e7-d4f8-43dd-b305-42bb4fb560bc",
   "metadata": {},
   "outputs": [
    {
     "data": {
      "text/plain": [
       "tensor([[1., 1., 1., 1.],\n",
       "        [1., 1., 1., 1.],\n",
       "        [1., 1., 1., 1.]])"
      ]
     },
     "execution_count": 33,
     "metadata": {},
     "output_type": "execute_result"
    }
   ],
   "source": [
    "B"
   ]
  },
  {
   "cell_type": "markdown",
   "id": "87814b64-2bc2-47c0-85ea-46d0568ef669",
   "metadata": {},
   "source": [
    "# NORMS (Operator)"
   ]
  },
  {
   "cell_type": "code",
   "execution_count": 34,
   "id": "ac107ab5-d2db-4656-9d52-313c2612a1cc",
   "metadata": {},
   "outputs": [],
   "source": [
    "# Norm of a vector tells us how big it is.\n",
    "# For example l2 norm measures (Euclidean) length of a vector.\n",
    "# Size here concerns magnitude and not the dimensionality.\n",
    "\n",
    "# Norm is given by || . || - It maps a vector to a scalar & satisfies 3 properties.\n",
    "\n",
    "#     1. Given vector (x) if we scale all elements of x by a scalar (a) then norm scales:\n",
    "#                        || ax || = || a || ||x||\n",
    "\n",
    "#     2. For any vectors (x) and (y), norms satisfy the triangle inequality:\n",
    "#                        ||x + y || <= ||x|| + ||y||\n",
    "#     3. Norm of a vector is a non negative and only vanishes when the vector is 0.\n",
    "#                        || x || > 0 for all x != 0\n",
    "# L2 Norm:\n",
    "#            ||x||2 = (∑(xi^2))^0.5"
   ]
  },
  {
   "cell_type": "code",
   "execution_count": 35,
   "id": "269a02bb-16d7-4e38-93c1-be1ce311b460",
   "metadata": {},
   "outputs": [
    {
     "data": {
      "text/plain": [
       "tensor(5.)"
      ]
     },
     "execution_count": 35,
     "metadata": {},
     "output_type": "execute_result"
    }
   ],
   "source": [
    "u = torch.tensor([3.0, -4.0])\n",
    "torch.norm(u)"
   ]
  },
  {
   "cell_type": "code",
   "execution_count": 36,
   "id": "7687fe9d-4951-4037-a910-3fd65b0cf29f",
   "metadata": {},
   "outputs": [
    {
     "data": {
      "text/plain": [
       "tensor(7.)"
      ]
     },
     "execution_count": 36,
     "metadata": {},
     "output_type": "execute_result"
    }
   ],
   "source": [
    "# L1 norm is called manhattan distance.\n",
    "#            || x || = ∑xi\n",
    "\n",
    "# Less sensitive to outliers\n",
    "\n",
    "torch.abs(u).sum()\n"
   ]
  },
  {
   "cell_type": "code",
   "execution_count": 37,
   "id": "4b3cecce-630d-49cd-b55b-74ea1008b25e",
   "metadata": {},
   "outputs": [],
   "source": [
    "# General case \n",
    "# Minkowski distance\n",
    "\n",
    "#        || x || = (∑xi^p)^(1/p)"
   ]
  },
  {
   "cell_type": "code",
   "execution_count": 38,
   "id": "c92014d8-4334-477f-a03c-8ffbda32a091",
   "metadata": {},
   "outputs": [],
   "source": [
    "# Frobenius Norm - for matrices\n",
    "\n",
    "#        || X || = sqrt(∑∑xij^2)\n",
    "\n",
    "# It behaves like Euclidean Norm"
   ]
  },
  {
   "cell_type": "code",
   "execution_count": 39,
   "id": "206222e5-647c-4910-9a4e-8ba87adc8a03",
   "metadata": {},
   "outputs": [
    {
     "data": {
      "text/plain": [
       "tensor(6.)"
      ]
     },
     "execution_count": 39,
     "metadata": {},
     "output_type": "execute_result"
    }
   ],
   "source": [
    "torch.norm(torch.ones((4,9)))"
   ]
  },
  {
   "cell_type": "code",
   "execution_count": 40,
   "id": "bd663276-0500-45c8-85da-d535bbcd3d81",
   "metadata": {},
   "outputs": [],
   "source": [
    "# USage:\n",
    "\n",
    "# Maximise the probability assigned to observed data\n",
    "# maximize the revenue associated with a recommendation model\n",
    "# Minimze tge distance between representations of photos of same person.\n",
    "# Maximize the distance between representations of photos of different people.\n",
    "\n",
    "# They are all in norms"
   ]
  },
  {
   "cell_type": "code",
   "execution_count": null,
   "id": "9f9c0707-d8a4-4541-a80c-cd20e3995dd3",
   "metadata": {},
   "outputs": [],
   "source": []
  }
 ],
 "metadata": {
  "kernelspec": {
   "display_name": "Python 3 (ipykernel)",
   "language": "python",
   "name": "python3"
  },
  "language_info": {
   "codemirror_mode": {
    "name": "ipython",
    "version": 3
   },
   "file_extension": ".py",
   "mimetype": "text/x-python",
   "name": "python",
   "nbconvert_exporter": "python",
   "pygments_lexer": "ipython3",
   "version": "3.12.6"
  }
 },
 "nbformat": 4,
 "nbformat_minor": 5
}

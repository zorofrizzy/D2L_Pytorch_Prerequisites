{
 "cells": [
  {
   "cell_type": "code",
   "execution_count": 1,
   "id": "049a0d8f-7e5e-405c-94dd-cfd88d659d71",
   "metadata": {},
   "outputs": [],
   "source": [
    "%matplotlib inline\n",
    "import math\n",
    "import time\n",
    "import numpy as np\n",
    "import torch\n",
    "from d2l import torch as d2l"
   ]
  },
  {
   "cell_type": "code",
   "execution_count": 2,
   "id": "f5e9a496-8386-411f-aeff-d62923a49b75",
   "metadata": {},
   "outputs": [],
   "source": [
    "# Gradient Descent - take the derivative of the loss function and move to the point of minimum.\n",
    "# Stochastic Gradient Descent - Take Gradient Descent one reading at a time\n",
    "# Minibatch Stochastic Gradient Descent - Make small batches and then do the Minima assessment.\n",
    "\n",
    "# The minibatch size |B| is chosen at random thus the Deep Neural Networks are not deterministic."
   ]
  },
  {
   "cell_type": "code",
   "execution_count": 3,
   "id": "d907f4e4-77b1-43ff-be8e-0862419c8460",
   "metadata": {},
   "outputs": [],
   "source": [
    "# We want to process minibatches simultaneously.\n",
    "# Thus we vectorize the calculations.\n",
    "\n",
    "# COMPARING VECTORIZATION CALCULATIONS WITH NON VECTORIZATION CALCULATIONS FOR A MATRIX OF ZEROES"
   ]
  },
  {
   "cell_type": "markdown",
   "id": "e90b92ce-f104-4567-9c06-8857d11ad027",
   "metadata": {},
   "source": [
    "# Time comparison of Vectorized calculations with regular for loop calculations."
   ]
  },
  {
   "cell_type": "code",
   "execution_count": 6,
   "id": "63200f61-544e-4967-b4b3-8a62d2a676f2",
   "metadata": {},
   "outputs": [],
   "source": [
    "# Creating 2 x 10K Dimensional vectors of 1s.\n",
    "\n",
    "n = 10000\n",
    "a = torch.ones(n)\n",
    "b = torch.ones(n)\n",
    "\n",
    "# Will be storing A and B in C\n",
    "c = torch.zeros(n)"
   ]
  },
  {
   "cell_type": "code",
   "execution_count": 8,
   "id": "7421e651-9617-45a4-9083-14d9e58f3734",
   "metadata": {},
   "outputs": [
    {
     "name": "stdout",
     "output_type": "stream",
     "text": [
      "Time taken in for loop : 0.22422 sec\n"
     ]
    }
   ],
   "source": [
    "# Benchmarking for for loops \n",
    "\n",
    "start_time = time.time()\n",
    "\n",
    "for i in range(n):\n",
    "    c[i] = a[i] + b[i]\n",
    "\n",
    "print('Time taken in for loop : {:.5f} sec'.format(time.time() - start_time))"
   ]
  },
  {
   "cell_type": "code",
   "execution_count": 11,
   "id": "c87e31d6-c7bf-4fdc-a99c-204d1eaad3a8",
   "metadata": {},
   "outputs": [
    {
     "name": "stdout",
     "output_type": "stream",
     "text": [
      "Time taken in Elementwise Vector sum : 0.000000000 sec\n"
     ]
    }
   ],
   "source": [
    "# Element wise vector sum\n",
    "\n",
    "start_time = time.time()\n",
    "\n",
    "d = a+b\n",
    "print('Time taken in Elementwise Vector sum : {:.9f} sec'.format(time.time() - start_time))"
   ]
  },
  {
   "cell_type": "code",
   "execution_count": 12,
   "id": "52f0d048-e612-4f2d-b7e6-e9e4b4c70e34",
   "metadata": {},
   "outputs": [],
   "source": [
    "#Easy to conclude that vectorization is faster exponentially."
   ]
  },
  {
   "cell_type": "code",
   "execution_count": null,
   "id": "7eb6b6f8-2201-4a41-973c-ccb508742097",
   "metadata": {},
   "outputs": [],
   "source": [
    "# Linear Regression is a fully connected single layer Neural Network                                                                                                                                                                                                                                                                                                                                                                                                                                                                                                                                                                                                                                                                                                                                                                                                                                                                                            "
   ]
  }
 ],
 "metadata": {
  "kernelspec": {
   "display_name": "Python 3 (ipykernel)",
   "language": "python",
   "name": "python3"
  },
  "language_info": {
   "codemirror_mode": {
    "name": "ipython",
    "version": 3
   },
   "file_extension": ".py",
   "mimetype": "text/x-python",
   "name": "python",
   "nbconvert_exporter": "python",
   "pygments_lexer": "ipython3",
   "version": "3.11.9"
  }
 },
 "nbformat": 4,
 "nbformat_minor": 5
}
